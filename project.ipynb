{
 "cells": [
  {
   "attachments": {},
   "cell_type": "markdown",
   "metadata": {},
   "source": [
    "Reading file and choosing sample of 8000 messenges to analyze(bigger dataset doesn't give more accuricy but only make calculation longer)"
   ]
  },
  {
   "cell_type": "code",
   "execution_count": 2,
   "metadata": {},
   "outputs": [],
   "source": [
    "import pandas as pd "
   ]
  },
  {
   "cell_type": "code",
   "execution_count": 3,
   "metadata": {},
   "outputs": [
    {
     "data": {
      "text/html": [
       "<div>\n",
       "<style scoped>\n",
       "    .dataframe tbody tr th:only-of-type {\n",
       "        vertical-align: middle;\n",
       "    }\n",
       "\n",
       "    .dataframe tbody tr th {\n",
       "        vertical-align: top;\n",
       "    }\n",
       "\n",
       "    .dataframe thead th {\n",
       "        text-align: right;\n",
       "    }\n",
       "</style>\n",
       "<table border=\"1\" class=\"dataframe\">\n",
       "  <thead>\n",
       "    <tr style=\"text-align: right;\">\n",
       "      <th></th>\n",
       "      <th>analysis</th>\n",
       "      <th>message</th>\n",
       "    </tr>\n",
       "  </thead>\n",
       "  <tbody>\n",
       "    <tr>\n",
       "      <th>582060</th>\n",
       "      <td>0</td>\n",
       "      <td>( - stocksolution 2005 @ yahoo . com - )Subjec...</td>\n",
       "    </tr>\n",
       "    <tr>\n",
       "      <th>268051</th>\n",
       "      <td>1</td>\n",
       "      <td>this issue resolved .</td>\n",
       "    </tr>\n",
       "    <tr>\n",
       "      <th>12985</th>\n",
       "      <td>1</td>\n",
       "      <td>julie meyers</td>\n",
       "    </tr>\n",
       "    <tr>\n",
       "      <th>696925</th>\n",
       "      <td>0</td>\n",
       "      <td>commission baltic renewable energy centre ( ec...</td>\n",
       "    </tr>\n",
       "    <tr>\n",
       "      <th>349300</th>\n",
       "      <td>1</td>\n",
       "      <td>start date : 1 / 10 / 02 ; hourahead hour : 20...</td>\n",
       "    </tr>\n",
       "    <tr>\n",
       "      <th>...</th>\n",
       "      <td>...</td>\n",
       "      <td>...</td>\n",
       "    </tr>\n",
       "    <tr>\n",
       "      <th>613072</th>\n",
       "      <td>0</td>\n",
       "      <td>will become much more effective . here is the ...</td>\n",
       "    </tr>\n",
       "    <tr>\n",
       "      <th>302031</th>\n",
       "      <td>1</td>\n",
       "      <td>midwest origination</td>\n",
       "    </tr>\n",
       "    <tr>\n",
       "      <th>700997</th>\n",
       "      <td>0</td>\n",
       "      <td>message - id : 200504222357 . j 3 mnvjdo 7950 ...</td>\n",
       "    </tr>\n",
       "    <tr>\n",
       "      <th>539488</th>\n",
       "      <td>0</td>\n",
       "      <td>historical fact and may be \" forward looking s...</td>\n",
       "    </tr>\n",
       "    <tr>\n",
       "      <th>342334</th>\n",
       "      <td>1</td>\n",
       "      <td>genesis energy ( amex ) , a houston company pl...</td>\n",
       "    </tr>\n",
       "  </tbody>\n",
       "</table>\n",
       "<p>8000 rows × 2 columns</p>\n",
       "</div>"
      ],
      "text/plain": [
       "        analysis                                            message\n",
       "582060         0  ( - stocksolution 2005 @ yahoo . com - )Subjec...\n",
       "268051         1                              this issue resolved .\n",
       "12985          1                                       julie meyers\n",
       "696925         0  commission baltic renewable energy centre ( ec...\n",
       "349300         1  start date : 1 / 10 / 02 ; hourahead hour : 20...\n",
       "...          ...                                                ...\n",
       "613072         0  will become much more effective . here is the ...\n",
       "302031         1                                midwest origination\n",
       "700997         0  message - id : 200504222357 . j 3 mnvjdo 7950 ...\n",
       "539488         0  historical fact and may be \" forward looking s...\n",
       "342334         1  genesis energy ( amex ) , a houston company pl...\n",
       "\n",
       "[8000 rows x 2 columns]"
      ]
     },
     "execution_count": 3,
     "metadata": {},
     "output_type": "execute_result"
    }
   ],
   "source": [
    "data = pd.read_csv(\"merged_file.txt\",sep='\\t')\n",
    "data = data.sample(n=8000)\n",
    "#data = data[['analysis','message']]\n",
    "data.set_index('analysis')\n",
    "data"
   ]
  },
  {
   "attachments": {},
   "cell_type": "markdown",
   "metadata": {},
   "source": [
    "Dropping N/A values and ensuring that out data is clean "
   ]
  },
  {
   "cell_type": "code",
   "execution_count": 4,
   "metadata": {},
   "outputs": [
    {
     "data": {
      "text/plain": [
       "Series([], dtype: int64)"
      ]
     },
     "execution_count": 4,
     "metadata": {},
     "output_type": "execute_result"
    }
   ],
   "source": [
    "data = data.dropna()\n",
    "missing_data = data.isnull().sum()\n",
    "missing_data = missing_data.drop(missing_data[missing_data == 0].index).sort_values(ascending=False)\n",
    "missing_data"
   ]
  },
  {
   "attachments": {},
   "cell_type": "markdown",
   "metadata": {},
   "source": [
    "Running main application with interface"
   ]
  },
  {
   "cell_type": "code",
   "execution_count": 5,
   "metadata": {},
   "outputs": [],
   "source": [
    "import tkinter as tk\n",
    "from tkinter import font\n",
    "from sklearn.metrics import accuracy_score\n",
    "from sklearn.feature_extraction.text import TfidfVectorizer\n",
    "from sklearn import svm\n",
    "from sklearn.naive_bayes import MultinomialNB\n",
    "from sklearn.linear_model import LogisticRegression\n",
    "\n",
    "class SpamDetector(tk.Tk):\n",
    "    def __init__(self):\n",
    "        tk.Tk.__init__(self)\n",
    "\n",
    "        self.geometry(\"500x300\") \n",
    "        self.title(\"Spam Detector\")\n",
    "        self.configure(bg='#b2d8b2')\n",
    "\n",
    "        self.label = tk.Label(self, text=\"Enter a message:\", bg='#b2d8b2')\n",
    "        self.label.place(x=50, y=50)\n",
    "\n",
    "        self.entry = tk.Entry(self, width=50, borderwidth=2, relief=\"groove\")\n",
    "        self.entry.place(x=150, y=50,height=100)\n",
    "\n",
    "        self.algo_label = tk.Label(self, text=\"Choose algorithm:\", bg='#b2d8b2')\n",
    "        self.algo_label.place(x=50, y=150)\n",
    "\n",
    "        self.algo_var = tk.StringVar()\n",
    "        self.algo_var.set(\"SVM\") # default value\n",
    "        self.algo_menu = tk.OptionMenu(self, self.algo_var, \"SVM\", \"Naive Bayes\", \"Logistic Regression\")\n",
    "        self.algo_menu.config(width=15)\n",
    "        self.algo_menu.place(x=150, y=150)\n",
    "\n",
    "        self.button = tk.Button(self, text=\"Check\", command=self.classify_message)\n",
    "        self.button.place(x=200, y=200)\n",
    "\n",
    "        self.result_label = tk.Label(self, text=\"\",bg=\"#b2d8b2\")\n",
    "        self.result_label.place(x=200, y=250)\n",
    "\n",
    "        self.tfidf = TfidfVectorizer()\n",
    "        self.clf = svm.SVC(kernel='linear')\n",
    "        self.clfs = {\"SVM\": self.clf, \"Naive Bayes\": MultinomialNB(), \"Logistic Regression\": LogisticRegression()}\n",
    "        \n",
    "        self.train_data = []\n",
    "        self.train_labels = []\n",
    "\n",
    "        \n",
    "    def train(self, data, labels):\n",
    "        self.train_data = data\n",
    "        self.train_labels = labels\n",
    "        self.tfidf.fit(data)\n",
    "        for algo, clf in self.clfs.items():\n",
    "            clf.fit(self.tfidf.transform(data), labels)\n",
    "            \n",
    "    def classify_message(self):\n",
    "        messages = [self.entry.get()]\n",
    "        messages_tfidf = self.tfidf.transform(messages)\n",
    "        algo = self.algo_var.get()\n",
    "        clf = self.clfs[algo]\n",
    "        prediction = clf.predict(messages_tfidf)\n",
    "        if prediction[0] == 0:\n",
    "            result = \"Spam\"\n",
    "        else:\n",
    "            result = \"Not Spam\"\n",
    "        self.result_label.config(text=f\"Result: {result}\")\n",
    "       \n",
    "    def run(self):\n",
    "        self.mainloop()\n",
    "\n",
    "if __name__ == '__main__':\n",
    "    detector = SpamDetector()\n",
    "    detector.train(data['message'], data['analysis'])\n",
    "    detector.run()"
   ]
  },
  {
   "attachments": {},
   "cell_type": "markdown",
   "metadata": {},
   "source": [
    "ploting accuracy for every algorithm"
   ]
  },
  {
   "cell_type": "code",
   "execution_count": 6,
   "metadata": {},
   "outputs": [
    {
     "data": {
      "image/png": "[encoded data removed]",
      "text/plain": [
       "<Figure size 432x288 with 1 Axes>"
      ]
     },
     "metadata": {},
     "output_type": "display_data"
    }
   ],
   "source": [
    "import seaborn as sns\n",
    "import matplotlib.pyplot as plt\n",
    "\n",
    "# initialize the detector and train the data\n",
    "detector = SpamDetector()\n",
    "detector.train(data['message'], data['analysis'])\n",
    "\n",
    "# create an empty dictionary to store the accuracy scores for each algorithm\n",
    "accuracy_scores = {}\n",
    "\n",
    "# loop over each algorithm and calculate the accuracy score\n",
    "for algo, clf in detector.clfs.items():\n",
    "    clf.fit(detector.tfidf.transform(detector.train_data), detector.train_labels)\n",
    "    predictions = clf.predict(detector.tfidf.transform(detector.train_data))\n",
    "    acc_score = accuracy_score(detector.train_labels, predictions)\n",
    "    accuracy_scores[algo] = acc_score\n",
    "\n",
    "# create a bar plot of the accuracy scores\n",
    "sns.set_style('darkgrid')\n",
    "sns.barplot(x=list(accuracy_scores.keys()), y=list(accuracy_scores.values()))\n",
    "plt.title('Accuracy Scores for Spam Detection Algorithms')\n",
    "plt.xlabel('Algorithm')\n",
    "plt.ylabel('Accuracy Score')\n",
    "\n",
    "# add annotations to the bars\n",
    "for i, v in enumerate(list(accuracy_scores.values())):\n",
    "    plt.annotate(str(round(v, 2)), xy=(i, v), ha='center', va='bottom')\n",
    "\n",
    "plt.show()\n",
    "\n"
   ]
  }
 ],
 "metadata": {
  "kernelspec": {
   "display_name": "Python 3",
   "language": "python",
   "name": "python3"
  },
  "language_info": {
   "codemirror_mode": {
    "name": "ipython",
    "version": 3
   },
   "file_extension": ".py",
   "mimetype": "text/x-python",
   "name": "python",
   "nbconvert_exporter": "python",
   "pygments_lexer": "ipython3",
   "version": "3.7.9"
  },
  "orig_nbformat": 4,
  "vscode": {
   "interpreter": {
    "hash": "37166e1e0d4b6237c41cabcc57baf0a57f3ff21ea3ea0ab90c7a7106bae80cba"
   }
  }
 },
 "nbformat": 4,
 "nbformat_minor": 2
}
